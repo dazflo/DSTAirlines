{
 "cells": [
  {
   "attachments": {},
   "cell_type": "markdown",
   "metadata": {},
   "source": [
    "# DST Airlines\n",
    "\n",
    "[LINK](https://docs.google.com/document/d/1wyo5QOe8UZZE0_fm0PNdc_bTUNqjyrBMHSHwH-JfSEM/edit)\n",
    "\n",
    "Description détaillée :  \n",
    "De nos jours, il est possible d’avoir des informations sur les vols dans le monde entier et de traquer en temps réel un avion. Nous pouvons observer ce site en guise d’exemple.  \n",
    "Le but ici est de s’en approcher le plus possible en passant par des API de différentes compagnies aériennes.\n",
    "\n",
    "Etape | Description | Modules / Masterclass / Templates | Objectif | Conditions de validation du projet\n",
    "----- | ----------- | --------------------------------- | -------- | ---------------------------------\n",
    "1 | Exploration de données non structurées | Passer par l’API de Lufthansa pour récupérer des données sur les vols | 103 - Introduction aux APIs de données | Un fichier explicatif du traitement et des différentes données accessibles (doc / pdf). Un exemple de données collectées.\n",
    "\n",
    "\n",
    "[Lufthansa Open API Documentation](https://developer.lufthansa.com/docs)\n",
    "\n",
    "[LH OpenAPI testing](https://developer.lufthansa.com/io-docs)\n",
    "\n",
    "[Public API Method Details](https://developer.lufthansa.com/docs/read/api_details)"
   ]
  }
 ],
 "metadata": {
  "language_info": {
   "name": "python"
  },
  "orig_nbformat": 4
 },
 "nbformat": 4,
 "nbformat_minor": 2
}
