{
 "cells": [
  {
   "attachments": {},
   "cell_type": "markdown",
   "metadata": {},
   "source": [
    "# DST Airlines\n",
    "\n",
    "[LINK](https://docs.google.com/document/d/1wyo5QOe8UZZE0_fm0PNdc_bTUNqjyrBMHSHwH-JfSEM/edit)\n",
    "\n",
    "Description détaillée :  \n",
    "De nos jours, il est possible d’avoir des informations sur les vols dans le monde entier et de traquer en temps réel un avion. Nous pouvons observer ce site en guise d’exemple.  \n",
    "Le but ici est de s’en approcher le plus possible en passant par des API de différentes compagnies aériennes.\n",
    "\n",
    "Etape | Description | Modules / Masterclass / Templates | Objectif | Conditions de validation du projet\n",
    "----- | ----------- | --------------------------------- | -------- | ---------------------------------\n",
    "1 | Exploration de données non structurées | Passer par l’API de Lufthansa pour récupérer des données sur les vols | 103 - Introduction aux APIs de données | Un fichier explicatif du traitement et des différentes données accessibles (doc / pdf). Un exemple de données collectées.\n",
    "\n",
    "\n",
    "[Lufthansa Open API Documentation](https://developer.lufthansa.com/docs)\n",
    "\n",
    "[LH OpenAPI testing](https://developer.lufthansa.com/io-docs)\n",
    "\n",
    "[Public API Method Details](https://developer.lufthansa.com/docs/read/api_details)\n",
    "\n",
    "!!! [Un repo GIT englobe déjà les requêtes à l'API, il suffirait de le forker](https://github.com/arossmann/lh_open_api)"
   ]
  },
  {
   "cell_type": "code",
   "execution_count": 3,
   "metadata": {},
   "outputs": [],
   "source": [
    "from Lhapi import Lhapi as api\n",
    "\n",
    "test = api()\n"
   ]
  },
  {
   "cell_type": "code",
   "execution_count": 7,
   "metadata": {},
   "outputs": [
    {
     "name": "stdout",
     "output_type": "stream",
     "text": [
      "{\n",
      "  \"CountryResource\": {\n",
      "    \"Countries\": {\n",
      "      \"Country\": [\n",
      "        {\n",
      "          \"CountryCode\": \"AD\",\n",
      "          \"Names\": {\n",
      "            \"Name\": {\n",
      "              \"@LanguageCode\": \"EN\",\n",
      "              \"$\": \"Andorra\"\n",
      "            }\n",
      "          }\n",
      "        },\n",
      "        {\n",
      "          \"CountryCode\": \"AE\",\n",
      "          \"Names\": {\n",
      "            \"Name\": {\n",
      "              \"@LanguageCode\": \"EN\",\n",
      "              \"$\": \"United Arab Emirates\"\n",
      "            }\n",
      "          }\n",
      "        },\n",
      "        {\n",
      "          \"CountryCode\": \"AF\",\n",
      "          \"Names\": {\n",
      "            \"Name\": {\n",
      "              \"@LanguageCode\": \"EN\",\n",
      "              \"$\": \"Afghanistan\"\n",
      "            }\n",
      "          }\n",
      "        },\n",
      "        {\n",
      "          \"CountryCode\": \"AG\",\n",
      "          \"Names\": {\n",
      "            \"Name\": {\n",
      "              \"@LanguageCode\": \"EN\",\n",
      "              \"$\": \"Antigua And Barbuda, Leeward Islands\"\n",
      "            }\n",
      "          }\n",
      "        },\n",
      "        {\n",
      "          \"CountryCode\": \"AI\",\n",
      "          \"Names\": {\n",
      "            \"Name\": {\n",
      "              \"@LanguageCode\": \"EN\",\n",
      "              \"$\": \"Anguilla, Leeward Islands\"\n",
      "            }\n",
      "          }\n",
      "        },\n",
      "        {\n",
      "          \"CountryCode\": \"AL\",\n",
      "          \"Names\": {\n",
      "            \"Name\": {\n",
      "              \"@LanguageCode\": \"EN\",\n",
      "              \"$\": \"Albania\"\n",
      "            }\n",
      "          }\n",
      "        },\n",
      "        {\n",
      "          \"CountryCode\": \"AM\",\n",
      "          \"Names\": {\n",
      "            \"Name\": {\n",
      "              \"@LanguageCode\": \"EN\",\n",
      "              \"$\": \"Armenia\"\n",
      "            }\n",
      "          }\n",
      "        },\n",
      "        {\n",
      "          \"CountryCode\": \"AO\",\n",
      "          \"Names\": {\n",
      "            \"Name\": {\n",
      "              \"@LanguageCode\": \"EN\",\n",
      "              \"$\": \"Angola\"\n",
      "            }\n",
      "          }\n",
      "        },\n",
      "        {\n",
      "          \"CountryCode\": \"AQ\",\n",
      "          \"Names\": {\n",
      "            \"Name\": {\n",
      "              \"@LanguageCode\": \"EN\",\n",
      "              \"$\": \"Antarctica\"\n",
      "            }\n",
      "          }\n",
      "        },\n",
      "        {\n",
      "          \"CountryCode\": \"AR\",\n",
      "          \"Names\": {\n",
      "            \"Name\": {\n",
      "              \"@LanguageCode\": \"EN\",\n",
      "              \"$\": \"Argentina\"\n",
      "            }\n",
      "          }\n",
      "        },\n",
      "        {\n",
      "          \"CountryCode\": \"AS\",\n",
      "          \"Names\": {\n",
      "            \"Name\": {\n",
      "              \"@LanguageCode\": \"EN\",\n",
      "              \"$\": \"American Samoa\"\n",
      "            }\n",
      "          }\n",
      "        },\n",
      "        {\n",
      "          \"CountryCode\": \"AT\",\n",
      "          \"Names\": {\n",
      "            \"Name\": {\n",
      "              \"@LanguageCode\": \"EN\",\n",
      "              \"$\": \"Austria\"\n",
      "            }\n",
      "          }\n",
      "        },\n",
      "        {\n",
      "          \"CountryCode\": \"AU\",\n",
      "          \"Names\": {\n",
      "            \"Name\": {\n",
      "              \"@LanguageCode\": \"EN\",\n",
      "              \"$\": \"Australia\"\n",
      "            }\n",
      "          }\n",
      "        },\n",
      "        {\n",
      "          \"CountryCode\": \"AW\",\n",
      "          \"Names\": {\n",
      "            \"Name\": {\n",
      "              \"@LanguageCode\": \"EN\",\n",
      "              \"$\": \"Aruba\"\n",
      "            }\n",
      "          }\n",
      "        },\n",
      "        {\n",
      "          \"CountryCode\": \"AZ\",\n",
      "          \"Names\": {\n",
      "            \"Name\": {\n",
      "              \"@LanguageCode\": \"EN\",\n",
      "              \"$\": \"Azerbaijan\"\n",
      "            }\n",
      "          }\n",
      "        },\n",
      "        {\n",
      "          \"CountryCode\": \"BA\",\n",
      "          \"Names\": {\n",
      "            \"Name\": {\n",
      "              \"@LanguageCode\": \"EN\",\n",
      "              \"$\": \"Bosnia And Herzegovina\"\n",
      "            }\n",
      "          }\n",
      "        },\n",
      "        {\n",
      "          \"CountryCode\": \"BB\",\n",
      "          \"Names\": {\n",
      "            \"Name\": {\n",
      "              \"@LanguageCode\": \"EN\",\n",
      "              \"$\": \"Barbados\"\n",
      "            }\n",
      "          }\n",
      "        },\n",
      "        {\n",
      "          \"CountryCode\": \"BD\",\n",
      "          \"Names\": {\n",
      "            \"Name\": {\n",
      "              \"@LanguageCode\": \"EN\",\n",
      "              \"$\": \"Bangladesh\"\n",
      "            }\n",
      "          }\n",
      "        },\n",
      "        {\n",
      "          \"CountryCode\": \"BE\",\n",
      "          \"Names\": {\n",
      "            \"Name\": {\n",
      "              \"@LanguageCode\": \"EN\",\n",
      "              \"$\": \"Belgium\"\n",
      "            }\n",
      "          }\n",
      "        },\n",
      "        {\n",
      "          \"CountryCode\": \"BF\",\n",
      "          \"Names\": {\n",
      "            \"Name\": {\n",
      "              \"@LanguageCode\": \"EN\",\n",
      "              \"$\": \"Burkina Faso\"\n",
      "            }\n",
      "          }\n",
      "        }\n",
      "      ]\n",
      "    },\n",
      "    \"Meta\": {\n",
      "      \"@Version\": \"1.0.0\",\n",
      "      \"Link\": [\n",
      "        {\n",
      "          \"@Href\": \"https://api.lufthansa.com/v1/mds-references/countries?lang=EN\",\n",
      "          \"@Rel\": \"self\"\n",
      "        },\n",
      "        {\n",
      "          \"@Href\": \"https://api.lufthansa.com/v1/mds-references/countries?lang=EN&offset=20&limit=20\",\n",
      "          \"@Rel\": \"next\"\n",
      "        },\n",
      "        {\n",
      "          \"@Href\": \"https://api.lufthansa.com/v1/mds-references/countries?lang=EN&offset=220&limit=20\",\n",
      "          \"@Rel\": \"last\"\n",
      "        },\n",
      "        {\n",
      "          \"@Href\": \"https://api.lufthansa.com/v1/mds-references/countries/{countryCode}\",\n",
      "          \"@Rel\": \"related\"\n",
      "        }\n",
      "      ],\n",
      "      \"TotalCount\": 238\n",
      "    }\n",
      "  }\n",
      "}\n"
     ]
    }
   ],
   "source": [
    "countries = test.request_api('v1', '/mds-references/countries?lang=EN')\n",
    "print(countries)"
   ]
  },
  {
   "cell_type": "code",
   "execution_count": 4,
   "metadata": {},
   "outputs": [
    {
     "ename": "TypeError",
     "evalue": "Lhapi.request_file() missing 1 required positional argument: 'element_name'",
     "output_type": "error",
     "traceback": [
      "\u001b[1;31m---------------------------------------------------------------------------\u001b[0m",
      "\u001b[1;31mTypeError\u001b[0m                                 Traceback (most recent call last)",
      "\u001b[1;32md:\\datascientest\\DSTAirlines\\overview.ipynb Cell 3\u001b[0m line \u001b[0;36m7\n\u001b[0;32m      <a href='vscode-notebook-cell:/d%3A/datascientest/DSTAirlines/overview.ipynb#W2sZmlsZQ%3D%3D?line=4'>5</a>\u001b[0m reference_items \u001b[39m=\u001b[39m [\u001b[39m'\u001b[39m\u001b[39mcountries\u001b[39m\u001b[39m'\u001b[39m, \u001b[39m'\u001b[39m\u001b[39mcities\u001b[39m\u001b[39m'\u001b[39m, \u001b[39m'\u001b[39m\u001b[39mairports\u001b[39m\u001b[39m'\u001b[39m, \u001b[39m'\u001b[39m\u001b[39mairlines\u001b[39m\u001b[39m'\u001b[39m, \u001b[39m'\u001b[39m\u001b[39maircraft\u001b[39m\u001b[39m'\u001b[39m]\n\u001b[0;32m      <a href='vscode-notebook-cell:/d%3A/datascientest/DSTAirlines/overview.ipynb#W2sZmlsZQ%3D%3D?line=5'>6</a>\u001b[0m \u001b[39mfor\u001b[39;00m ref \u001b[39min\u001b[39;00m reference_items:\n\u001b[1;32m----> <a href='vscode-notebook-cell:/d%3A/datascientest/DSTAirlines/overview.ipynb#W2sZmlsZQ%3D%3D?line=6'>7</a>\u001b[0m     test\u001b[39m.\u001b[39;49mrequest_file(ref \u001b[39m+\u001b[39;49m \u001b[39m'\u001b[39;49m\u001b[39m.json\u001b[39;49m\u001b[39m'\u001b[39;49m, \u001b[39m'\u001b[39;49m\u001b[39mv1\u001b[39;49m\u001b[39m'\u001b[39;49m, \u001b[39m'\u001b[39;49m\u001b[39m/mds-references/\u001b[39;49m\u001b[39m'\u001b[39;49m \u001b[39m+\u001b[39;49m ref)\n",
      "\u001b[1;31mTypeError\u001b[0m: Lhapi.request_file() missing 1 required positional argument: 'element_name'"
     ]
    }
   ],
   "source": [
    "# REFERENCES\n",
    "# https://developer.lufthansa.com/docs/read/api_details/Reference_Data\n",
    "# missing nearest airport\n",
    "\n",
    "reference_items = ['countries', 'cities', 'airports', 'airlines', 'aircraft']\n",
    "for ref in reference_items:\n",
    "    test.request_file(ref + '.json', 'v1', '/mds-references/' + ref)"
   ]
  },
  {
   "cell_type": "code",
   "execution_count": 5,
   "metadata": {},
   "outputs": [
    {
     "ename": "TypeError",
     "evalue": "Lhapi.request_file() missing 1 required positional argument: 'element_name'",
     "output_type": "error",
     "traceback": [
      "\u001b[1;31m---------------------------------------------------------------------------\u001b[0m",
      "\u001b[1;31mTypeError\u001b[0m                                 Traceback (most recent call last)",
      "\u001b[1;32md:\\datascientest\\DSTAirlines\\overview.ipynb Cell 4\u001b[0m line \u001b[0;36m2\n\u001b[0;32m      <a href='vscode-notebook-cell:/d%3A/datascientest/DSTAirlines/overview.ipynb#W3sZmlsZQ%3D%3D?line=0'>1</a>\u001b[0m \u001b[39m# get airports where LH is present\u001b[39;00m\n\u001b[1;32m----> <a href='vscode-notebook-cell:/d%3A/datascientest/DSTAirlines/overview.ipynb#W3sZmlsZQ%3D%3D?line=1'>2</a>\u001b[0m test\u001b[39m.\u001b[39;49mrequest_file(\u001b[39m'\u001b[39;49m\u001b[39mairports_lh.json\u001b[39;49m\u001b[39m'\u001b[39;49m, \u001b[39m'\u001b[39;49m\u001b[39mv1\u001b[39;49m\u001b[39m'\u001b[39;49m, \u001b[39m'\u001b[39;49m\u001b[39m/mds-references/airports?LHoperated=1\u001b[39;49m\u001b[39m'\u001b[39;49m)\n",
      "\u001b[1;31mTypeError\u001b[0m: Lhapi.request_file() missing 1 required positional argument: 'element_name'"
     ]
    }
   ],
   "source": [
    "# get airports where LH is present\n",
    "test.request_file('airports_lh.json', 'v1', '/mds-references/airports?LHoperated=1')"
   ]
  },
  {
   "cell_type": "code",
   "execution_count": null,
   "metadata": {},
   "outputs": [],
   "source": [
    "# get lounges from airports where LH is present\n",
    "import json\n",
    "\n",
    "def read_file(file_path, word):\n",
    "    with open(file_path, 'r') as f:\n",
    "        for line in f:\n",
    "            if line.strip().startswith('\"' + word + '\"'):\n",
    "                res = line.split(':')[1].replace(',', '').replace('\"', '').strip()\n",
    "                yield res\n",
    "\n",
    "\n",
    "airport_lh_codes = read_file(\"files/airports_lh.json\", \"AirportCode\")\n",
    "for code in airport_lh_codes:\n",
    "    print(test.request_api(\"/offers/lounges/\" + code))\n"
   ]
  },
  {
   "cell_type": "code",
   "execution_count": null,
   "metadata": {},
   "outputs": [],
   "source": [
    "# OFFERS\n",
    "\n"
   ]
  },
  {
   "cell_type": "code",
   "execution_count": null,
   "metadata": {},
   "outputs": [],
   "source": [
    "# test api v2\n",
    "req = test.request_api('v2', '/customer-deeplinks/servicing-links/booking')\n",
    "print(req)"
   ]
  },
  {
   "cell_type": "code",
   "execution_count": null,
   "metadata": {},
   "outputs": [],
   "source": [
    "print(test.get_partner_token())"
   ]
  },
  {
   "cell_type": "code",
   "execution_count": 2,
   "metadata": {},
   "outputs": [
    {
     "ename": "AttributeError",
     "evalue": "'Lhapi' object has no attribute 'request_api'",
     "output_type": "error",
     "traceback": [
      "\u001b[1;31m---------------------------------------------------------------------------\u001b[0m",
      "\u001b[1;31mAttributeError\u001b[0m                            Traceback (most recent call last)",
      "Cell \u001b[1;32mIn[2], line 3\u001b[0m\n\u001b[0;32m      1\u001b[0m \u001b[39m# Test vietnam schedules\u001b[39;00m\n\u001b[1;32m----> 3\u001b[0m req \u001b[39m=\u001b[39m test\u001b[39m.\u001b[39;49mrequest_api(\u001b[39m'\u001b[39m\u001b[39mv1\u001b[39m\u001b[39m'\u001b[39m, \u001b[39m'\u001b[39m\u001b[39m/operations/schedules/FRA/CDG/2023-11-29\u001b[39m\u001b[39m'\u001b[39m)\n\u001b[0;32m      4\u001b[0m \u001b[39mprint\u001b[39m(req)\n",
      "\u001b[1;31mAttributeError\u001b[0m: 'Lhapi' object has no attribute 'request_api'"
     ]
    }
   ],
   "source": [
    "# Test vietnam schedules\n",
    "\n",
    "req = test.request_api('v1', '/operations/schedules/FRA/CDG/2023-11-29')\n",
    "print(req)\n"
   ]
  },
  {
   "cell_type": "code",
   "execution_count": null,
   "metadata": {},
   "outputs": [],
   "source": [
    "import pandas as pd\n",
    "from pandas import json_normalize\n",
    "import json\n",
    "\n",
    "json_data = json.loads(req)\n",
    "\n"
   ]
  },
  {
   "cell_type": "code",
   "execution_count": null,
   "metadata": {},
   "outputs": [],
   "source": [
    "def get_all_pages():\n",
    "    pass"
   ]
  },
  {
   "cell_type": "code",
   "execution_count": 66,
   "metadata": {},
   "outputs": [
    {
     "name": "stdout",
     "output_type": "stream",
     "text": [
      "{'@Version': '1.0.0', 'Link': [{'@Href': 'https://api.lufthansa.com/v1/mds-references/countries?lang=EN', '@Rel': 'self'}, {'@Href': 'https://api.lufthansa.com/v1/mds-references/countries?lang=EN&offset=20&limit=20', '@Rel': 'next'}, {'@Href': 'https://api.lufthansa.com/v1/mds-references/countries?lang=EN&offset=220&limit=20', '@Rel': 'last'}, {'@Href': 'https://api.lufthansa.com/v1/mds-references/countries/{countryCode}', '@Rel': 'related'}], 'TotalCount': 238}\n"
     ]
    }
   ],
   "source": [
    "import json\n",
    "import re\n",
    "\n",
    "with open('countries_en_1.json', 'r') as file:\n",
    "    data = file.read()\n",
    "\n",
    "pattern = re.compile(r'\"Meta\":.*\"Link\":.*\\].*?\\}', re.DOTALL)\n",
    "\n",
    "# print(data)\n",
    "# Recherchez le motif dans la chaîne JSON\n",
    "# match = pattern.search(data)\n",
    "# print(match)\n",
    "meta = re.findall(pattern, data)[0]\n",
    "meta = json.loads('{' + meta + '}')\n",
    "\n",
    "print(meta['Meta']['TotalCount'])\n",
    "\n"
   ]
  }
 ],
 "metadata": {
  "kernelspec": {
   "display_name": "Python 3",
   "language": "python",
   "name": "python3"
  },
  "language_info": {
   "codemirror_mode": {
    "name": "ipython",
    "version": 3
   },
   "file_extension": ".py",
   "mimetype": "text/x-python",
   "name": "python",
   "nbconvert_exporter": "python",
   "pygments_lexer": "ipython3",
   "version": "3.11.4"
  },
  "orig_nbformat": 4
 },
 "nbformat": 4,
 "nbformat_minor": 2
}
