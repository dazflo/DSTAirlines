{
 "cells": [
  {
   "attachments": {},
   "cell_type": "markdown",
   "metadata": {},
   "source": [
    "# DST Airlines\n",
    "\n",
    "[LINK](https://docs.google.com/document/d/1wyo5QOe8UZZE0_fm0PNdc_bTUNqjyrBMHSHwH-JfSEM/edit)\n",
    "\n",
    "Description détaillée :  \n",
    "De nos jours, il est possible d’avoir des informations sur les vols dans le monde entier et de traquer en temps réel un avion. Nous pouvons observer ce site en guise d’exemple.  \n",
    "Le but ici est de s’en approcher le plus possible en passant par des API de différentes compagnies aériennes.\n",
    "\n",
    "Etape | Description | Modules / Masterclass / Templates | Objectif | Conditions de validation du projet\n",
    "----- | ----------- | --------------------------------- | -------- | ---------------------------------\n",
    "1 | Exploration de données non structurées | Passer par l’API de Lufthansa pour récupérer des données sur les vols | 103 - Introduction aux APIs de données | Un fichier explicatif du traitement et des différentes données accessibles (doc / pdf). Un exemple de données collectées.\n",
    "\n",
    "\n",
    "[Lufthansa Open API Documentation](https://developer.lufthansa.com/docs)\n",
    "\n",
    "[LH OpenAPI testing](https://developer.lufthansa.com/io-docs)\n",
    "\n",
    "[Public API Method Details](https://developer.lufthansa.com/docs/read/api_details)\n",
    "\n",
    "!!! [Un repo GIT englobe déjà les requêtes à l'API, il suffirait de le forker](https://github.com/arossmann/lh_open_api)"
   ]
  },
  {
   "cell_type": "code",
   "execution_count": 1,
   "metadata": {},
   "outputs": [],
   "source": [
    "# imports\n",
    "\n",
    "import sys\n",
    "sys.path.append('config')\n",
    "\n",
    "import lh_access as API # API credentials, not on git\n",
    "import requests\n",
    "\n"
   ]
  },
  {
   "attachments": {},
   "cell_type": "markdown",
   "metadata": {},
   "source": []
  },
  {
   "cell_type": "code",
   "execution_count": 3,
   "metadata": {},
   "outputs": [
    {
     "name": "stdout",
     "output_type": "stream",
     "text": [
      "{'AirportResource': {'Airports': {'Airport': {'AirportCode': 'FRA', 'Position': {'Coordinate': {'Latitude': 50.0331, 'Longitude': 8.5706}}, 'CityCode': 'FRA', 'CountryCode': 'DE', 'LocationType': 'Airport', 'Names': {'Name': [{'@LanguageCode': 'CS', '$': 'Frankfurt'}, {'@LanguageCode': 'DE', '$': 'Frankfurt'}, {'@LanguageCode': 'EN', '$': 'Frankfurt'}, {'@LanguageCode': 'ES', '$': 'Frankfurt'}, {'@LanguageCode': 'FR', '$': 'Francfort'}, {'@LanguageCode': 'HU', '$': 'Frankfurt / Main International'}, {'@LanguageCode': 'IT', '$': 'Francoforte'}, {'@LanguageCode': 'JA', '$': 'フランクフルト'}, {'@LanguageCode': 'KA', '$': '法蘭克福'}, {'@LanguageCode': 'KO', '$': '프랑크푸르트'}, {'@LanguageCode': 'KR', '$': '프랑크푸르트'}, {'@LanguageCode': 'NL', '$': 'Frankfurt'}, {'@LanguageCode': 'PL', '$': 'Frankfurt'}, {'@LanguageCode': 'PT', '$': 'Frankfurt'}, {'@LanguageCode': 'RO', '$': 'Frankfurt'}, {'@LanguageCode': 'RU', '$': 'Франкфурт'}, {'@LanguageCode': 'SV', '$': 'Frankfurt'}, {'@LanguageCode': 'UK', '$': 'Франкфурт'}, {'@LanguageCode': 'ZH', '$': '法兰克福'}]}, 'UtcOffset': '+01:00', 'TimeZoneId': 'Europe/Berlin'}}, 'Meta': {'@Version': '1.0.0', 'Link': [{'@Href': 'https://api.lufthansa.com/v1/mds-references/airports/FRA', '@Rel': 'self'}, {'@Href': 'https://api.lufthansa.com/v1/mds-references/cities/FRA', '@Rel': 'related'}, {'@Href': 'https://api.lufthansa.com/v1/mds-references/countries/DE', '@Rel': 'related'}, {'@Href': 'http://travelguide.lufthansa.com/de/de/{cityCode}/FRA', '@Rel': 'alternate'}, {'@Href': 'http://travelguide.lufthansa.com/de/en/{cityCode}/FRA', '@Rel': 'alternate'}, {'@Href': 'http://travelguide.lufthansa.com/de/cn/{cityCode}/FRA', '@Rel': 'alternate'}, {'@Href': 'http://travelguide.lufthansa.com/de/es/{cityCode}/FRA', '@Rel': 'alternate'}, {'@Href': 'http://travelguide.lufthansa.com/de/fr/{cityCode}/FRA', '@Rel': 'alternate'}, {'@Href': 'http://travelguide.lufthansa.com/de/it/{cityCode}/FRA', '@Rel': 'alternate'}, {'@Href': 'http://travelguide.lufthansa.com/de/pt/{cityCode}/FRA', '@Rel': 'alternate'}]}}}\n"
     ]
    }
   ],
   "source": [
    "headers = {\"Authorization\": API.BEARER}\n",
    "# req = requests.get('https://api.lufthansa.com/v1/mds-references/airports/FRA', headers=headers)\n",
    "req = requests.get('https://api.lufthansa.com/v1/flight-schedules/flightschedules/cargo?airlines=LH&startDate=01NOV23&endDate=02NOV23&daysOfOperation=1234567&timeMode=UTC&origin=BER', headers=headers)\n",
    "print(req.json())"
   ]
  }
 ],
 "metadata": {
  "kernelspec": {
   "display_name": "Python 3",
   "language": "python",
   "name": "python3"
  },
  "language_info": {
   "codemirror_mode": {
    "name": "ipython",
    "version": 3
   },
   "file_extension": ".py",
   "mimetype": "text/x-python",
   "name": "python",
   "nbconvert_exporter": "python",
   "pygments_lexer": "ipython3",
   "version": "3.11.4"
  },
  "orig_nbformat": 4
 },
 "nbformat": 4,
 "nbformat_minor": 2
}
