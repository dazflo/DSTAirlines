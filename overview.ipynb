{
 "cells": [
  {
   "attachments": {},
   "cell_type": "markdown",
   "metadata": {},
   "source": [
    "# DST Airlines\n",
    "\n",
    "[LINK](https://docs.google.com/document/d/1wyo5QOe8UZZE0_fm0PNdc_bTUNqjyrBMHSHwH-JfSEM/edit)\n",
    "\n",
    "Description détaillée :  \n",
    "De nos jours, il est possible d’avoir des informations sur les vols dans le monde entier et de traquer en temps réel un avion. Nous pouvons observer ce site en guise d’exemple.  \n",
    "Le but ici est de s’en approcher le plus possible en passant par des API de différentes compagnies aériennes.\n",
    "\n",
    "Etape | Description | Modules / Masterclass / Templates | Objectif | Conditions de validation du projet\n",
    "----- | ----------- | --------------------------------- | -------- | ---------------------------------\n",
    "1 | Exploration de données non structurées | Passer par l’API de Lufthansa pour récupérer des données sur les vols | 103 - Introduction aux APIs de données | Un fichier explicatif du traitement et des différentes données accessibles (doc / pdf). Un exemple de données collectées.\n",
    "\n",
    "\n",
    "[Lufthansa Open API Documentation](https://developer.lufthansa.com/docs)\n",
    "\n",
    "[LH OpenAPI testing](https://developer.lufthansa.com/io-docs)\n",
    "\n",
    "[Public API Method Details](https://developer.lufthansa.com/docs/read/api_details)\n",
    "\n",
    "!!! [Un repo GIT englobe déjà les requêtes à l'API, il suffirait de le forker](https://github.com/arossmann/lh_open_api)"
   ]
  },
  {
   "cell_type": "code",
   "execution_count": 2,
   "metadata": {},
   "outputs": [],
   "source": [
    "from Lhapi import Lhapi as api\n",
    "\n",
    "test = api()\n"
   ]
  },
  {
   "cell_type": "code",
   "execution_count": 2,
   "metadata": {},
   "outputs": [],
   "source": [
    "# REFERENCES\n",
    "# https://developer.lufthansa.com/docs/read/api_details/Reference_Data\n",
    "# missing nearest airport\n",
    "\n",
    "reference_items = ['countries', 'cities', 'airports', 'airlines', 'aircraft']\n",
    "for ref in reference_items:\n",
    "    test.request_file(ref + '.json', '/mds-references/' + ref)"
   ]
  },
  {
   "cell_type": "code",
   "execution_count": 3,
   "metadata": {},
   "outputs": [],
   "source": [
    "# get airports where LH is present\n",
    "test.request_file('airports_lh.json', '/mds-references/airports?LHoperated=1')"
   ]
  },
  {
   "cell_type": "code",
   "execution_count": 8,
   "metadata": {},
   "outputs": [
    {
     "name": "stdout",
     "output_type": "stream",
     "text": [
      "400 https://api.lufthansa.com/v1/offers/lounges/ AAA\n",
      "?limit=100\n",
      "None\n",
      "400 https://api.lufthansa.com/v1/offers/lounges/ AAB\n",
      "?limit=100\n",
      "None\n",
      "400 https://api.lufthansa.com/v1/offers/lounges/ AAC\n",
      "?limit=100\n",
      "None\n",
      "400 https://api.lufthansa.com/v1/offers/lounges/ AAD\n",
      "?limit=100\n",
      "None\n",
      "400 https://api.lufthansa.com/v1/offers/lounges/ AAE\n",
      "?limit=100\n",
      "None\n",
      "400 https://api.lufthansa.com/v1/offers/lounges/ AAF\n",
      "?limit=100\n",
      "None\n",
      "400 https://api.lufthansa.com/v1/offers/lounges/ AAG\n",
      "?limit=100\n",
      "None\n",
      "400 https://api.lufthansa.com/v1/offers/lounges/ AAH\n",
      "?limit=100\n",
      "None\n",
      "400 https://api.lufthansa.com/v1/offers/lounges/ AAI\n",
      "?limit=100\n",
      "None\n",
      "400 https://api.lufthansa.com/v1/offers/lounges/ AAJ\n",
      "?limit=100\n",
      "None\n",
      "400 https://api.lufthansa.com/v1/offers/lounges/ AAK\n",
      "?limit=100\n",
      "None\n",
      "400 https://api.lufthansa.com/v1/offers/lounges/ AAL\n",
      "?limit=100\n",
      "None\n",
      "400 https://api.lufthansa.com/v1/offers/lounges/ AAM\n",
      "?limit=100\n",
      "None\n",
      "400 https://api.lufthansa.com/v1/offers/lounges/ AAN\n",
      "?limit=100\n",
      "None\n",
      "400 https://api.lufthansa.com/v1/offers/lounges/ AAO\n",
      "?limit=100\n",
      "None\n",
      "400 https://api.lufthansa.com/v1/offers/lounges/ AAP\n",
      "?limit=100\n",
      "None\n",
      "400 https://api.lufthansa.com/v1/offers/lounges/ AAQ\n",
      "?limit=100\n",
      "None\n",
      "400 https://api.lufthansa.com/v1/offers/lounges/ AAR\n",
      "?limit=100\n",
      "None\n",
      "400 https://api.lufthansa.com/v1/offers/lounges/ AAS\n",
      "?limit=100\n",
      "None\n",
      "400 https://api.lufthansa.com/v1/offers/lounges/ AAT\n",
      "?limit=100\n",
      "None\n"
     ]
    }
   ],
   "source": [
    "# get lounges from airports where LH is present\n",
    "import json\n",
    "\n",
    "def read_file(file_path, word):\n",
    "    with open(file_path, 'r') as f:\n",
    "        for line in f:\n",
    "            if line.strip().startswith('\"' + word + '\"'):\n",
    "                res = line.split(':')[1].replace(',', '').replace('\"', '').strip()\n",
    "                yield res\n",
    "\n",
    "\n",
    "airport_lh_codes = read_file(\"files/airports_lh.json\", \"AirportCode\")\n",
    "for code in airport_lh_codes:\n",
    "    print(test.request_api(\"/offers/lounges/\" + code))\n"
   ]
  },
  {
   "cell_type": "code",
   "execution_count": null,
   "metadata": {},
   "outputs": [],
   "source": [
    "# OFFERS\n",
    "\n"
   ]
  }
 ],
 "metadata": {
  "kernelspec": {
   "display_name": "Python 3",
   "language": "python",
   "name": "python3"
  },
  "language_info": {
   "codemirror_mode": {
    "name": "ipython",
    "version": 3
   },
   "file_extension": ".py",
   "mimetype": "text/x-python",
   "name": "python",
   "nbconvert_exporter": "python",
   "pygments_lexer": "ipython3",
   "version": "3.11.4"
  },
  "orig_nbformat": 4
 },
 "nbformat": 4,
 "nbformat_minor": 2
}
