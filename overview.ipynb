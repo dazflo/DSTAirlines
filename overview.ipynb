{
 "cells": [
  {
   "attachments": {},
   "cell_type": "markdown",
   "metadata": {},
   "source": [
    "# DST Airlines\n",
    "\n",
    "[LINK](https://docs.google.com/document/d/1wyo5QOe8UZZE0_fm0PNdc_bTUNqjyrBMHSHwH-JfSEM/edit)\n",
    "\n",
    "Description détaillée :  \n",
    "De nos jours, il est possible d’avoir des informations sur les vols dans le monde entier et de traquer en temps réel un avion. Nous pouvons observer ce site en guise d’exemple.  \n",
    "Le but ici est de s’en approcher le plus possible en passant par des API de différentes compagnies aériennes.\n",
    "\n",
    "Etape | Description | Modules / Masterclass / Templates | Objectif | Conditions de validation du projet\n",
    "----- | ----------- | --------------------------------- | -------- | ---------------------------------\n",
    "1 | Exploration de données non structurées | Passer par l’API de Lufthansa pour récupérer des données sur les vols | 103 - Introduction aux APIs de données | Un fichier explicatif du traitement et des différentes données accessibles (doc / pdf). Un exemple de données collectées.\n",
    "\n",
    "\n",
    "[Lufthansa Open API Documentation](https://developer.lufthansa.com/docs)\n",
    "\n",
    "[LH OpenAPI testing](https://developer.lufthansa.com/io-docs)\n",
    "\n",
    "[Public API Method Details](https://developer.lufthansa.com/docs/read/api_details)\n",
    "\n",
    "!!! [Un repo GIT englobe déjà les requêtes à l'API, il suffirait de le forker](https://github.com/arossmann/lh_open_api)"
   ]
  },
  {
   "cell_type": "code",
   "execution_count": 1,
   "metadata": {},
   "outputs": [],
   "source": [
    "# imports\n",
    "\n",
    "import sys\n",
    "sys.path.append('config')\n",
    "\n",
    "import lh_access as API # API credentials, not on git\n",
    "import request\n",
    "\n",
    "\n"
   ]
  },
  {
   "attachments": {},
   "cell_type": "markdown",
   "metadata": {},
   "source": [
    "Getting countries"
   ]
  },
  {
   "cell_type": "code",
   "execution_count": 2,
   "metadata": {},
   "outputs": [],
   "source": [
    "# req = request.get('https://api.lufthansa.com/v1/flight-schedules/flightschedules/cargo?airlines=LH&startDate=01NOV23&endDate=02NOV23&daysOfOperation=1234567&timeMode=UTC&origin=BER')\n",
    "# print(req)\n",
    "req = request.get('https://api.lufthansa.com/v1/mds-references/airports/FRA')\n",
    "with open('files/countries.json', 'w') as countries:\n",
    "    countries.write(req)\n",
    "\n"
   ]
  },
  {
   "attachments": {},
   "cell_type": "markdown",
   "metadata": {},
   "source": [
    "Getting cities"
   ]
  },
  {
   "cell_type": "code",
   "execution_count": 11,
   "metadata": {},
   "outputs": [
    {
     "ename": "TypeError",
     "evalue": "write() argument must be str, not None",
     "output_type": "error",
     "traceback": [
      "\u001b[1;31m---------------------------------------------------------------------------\u001b[0m",
      "\u001b[1;31mTypeError\u001b[0m                                 Traceback (most recent call last)",
      "Cell \u001b[1;32mIn[11], line 3\u001b[0m\n\u001b[0;32m      1\u001b[0m req \u001b[39m=\u001b[39m request\u001b[39m.\u001b[39mget(\u001b[39m'\u001b[39m\u001b[39mhttps://api.lufthansa.com/v1/mds-references/mds-references/cities\u001b[39m\u001b[39m'\u001b[39m)\n\u001b[0;32m      2\u001b[0m \u001b[39mwith\u001b[39;00m \u001b[39mopen\u001b[39m(\u001b[39m'\u001b[39m\u001b[39mfiles/cities.json\u001b[39m\u001b[39m'\u001b[39m, \u001b[39m'\u001b[39m\u001b[39mw\u001b[39m\u001b[39m'\u001b[39m) \u001b[39mas\u001b[39;00m cities:\n\u001b[1;32m----> 3\u001b[0m     cities\u001b[39m.\u001b[39;49mwrite(req)\n",
      "\u001b[1;31mTypeError\u001b[0m: write() argument must be str, not None"
     ]
    }
   ],
   "source": [
    "req = request.get('https://api.lufthansa.com/v1/mds-references/cities')\n",
    "with open('files/cities.json', 'w') as cities:\n",
    "    cities.write(req)"
   ]
  },
  {
   "attachments": {},
   "cell_type": "markdown",
   "metadata": {},
   "source": [
    "Getting airports"
   ]
  },
  {
   "cell_type": "code",
   "execution_count": 10,
   "metadata": {},
   "outputs": [],
   "source": [
    "req = request.get('https://api.lufthansa.com/v1/mds-references/airports?LHoperated=1')\n",
    "with open('files/aiports.json', 'w') as airports:\n",
    "    airports.write(req)"
   ]
  }
 ],
 "metadata": {
  "kernelspec": {
   "display_name": "Python 3",
   "language": "python",
   "name": "python3"
  },
  "language_info": {
   "codemirror_mode": {
    "name": "ipython",
    "version": 3
   },
   "file_extension": ".py",
   "mimetype": "text/x-python",
   "name": "python",
   "nbconvert_exporter": "python",
   "pygments_lexer": "ipython3",
   "version": "3.11.4"
  },
  "orig_nbformat": 4
 },
 "nbformat": 4,
 "nbformat_minor": 2
}
