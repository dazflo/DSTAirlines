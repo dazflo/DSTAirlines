{
 "cells": [
  {
   "attachments": {},
   "cell_type": "markdown",
   "metadata": {},
   "source": [
    "# DST Airlines\n",
    "\n",
    "[LINK](https://docs.google.com/document/d/1wyo5QOe8UZZE0_fm0PNdc_bTUNqjyrBMHSHwH-JfSEM/edit)\n",
    "\n",
    "Description détaillée :  \n",
    "De nos jours, il est possible d’avoir des informations sur les vols dans le monde entier et de traquer en temps réel un avion. Nous pouvons observer ce site en guise d’exemple.  \n",
    "Le but ici est de s’en approcher le plus possible en passant par des API de différentes compagnies aériennes.\n",
    "\n",
    "Etape | Description | Modules / Masterclass / Templates | Objectif | Conditions de validation du projet\n",
    "----- | ----------- | --------------------------------- | -------- | ---------------------------------\n",
    "1 | Exploration de données non structurées | Passer par l’API de Lufthansa pour récupérer des données sur les vols | 103 - Introduction aux APIs de données | Un fichier explicatif du traitement et des différentes données accessibles (doc / pdf). Un exemple de données collectées.\n",
    "\n",
    "\n",
    "[Lufthansa Open API Documentation](https://developer.lufthansa.com/docs)\n",
    "\n",
    "[LH OpenAPI testing](https://developer.lufthansa.com/io-docs)\n",
    "\n",
    "[Public API Method Details](https://developer.lufthansa.com/docs/read/api_details)\n",
    "\n",
    "!!! [Un repo GIT englobe déjà les requêtes à l'API, il suffirait de le forker](https://github.com/arossmann/lh_open_api)"
   ]
  },
  {
   "cell_type": "code",
   "execution_count": 2,
   "metadata": {},
   "outputs": [
    {
     "ename": "FileNotFoundError",
     "evalue": "[Errno 2] No such file or directory: 'c:\\\\user\\\\U258941\\\\datascientest\\\\DSTAirlines\\\\logs\\\\lh_requests.log'",
     "output_type": "error",
     "traceback": [
      "\u001b[1;31m---------------------------------------------------------------------------\u001b[0m",
      "\u001b[1;31mFileNotFoundError\u001b[0m                         Traceback (most recent call last)",
      "Cell \u001b[1;32mIn[2], line 1\u001b[0m\n\u001b[1;32m----> 1\u001b[0m \u001b[39mfrom\u001b[39;00m \u001b[39mLhapi\u001b[39;00m \u001b[39mimport\u001b[39;00m Lhapi \u001b[39mas\u001b[39;00m api\n\u001b[0;32m      3\u001b[0m test \u001b[39m=\u001b[39m api()\n",
      "File \u001b[1;32mc:\\user\\U258941\\datascientest\\DSTAirlines\\Lhapi.py:14\u001b[0m\n\u001b[0;32m     11\u001b[0m logger\u001b[39m.\u001b[39msetLevel(logging\u001b[39m.\u001b[39mINFO)\n\u001b[0;32m     12\u001b[0m formatter \u001b[39m=\u001b[39m logging\u001b[39m.\u001b[39mFormatter(\u001b[39m'\u001b[39m\u001b[39m%(asctime)s\u001b[39;00m\u001b[39m :: \u001b[39m\u001b[39m%(levelname)s\u001b[39;00m\u001b[39m :: \u001b[39m\u001b[39m%(message)s\u001b[39;00m\u001b[39m'\u001b[39m)\n\u001b[1;32m---> 14\u001b[0m file_handler \u001b[39m=\u001b[39m logging\u001b[39m.\u001b[39;49mhandlers\u001b[39m.\u001b[39;49mTimedRotatingFileHandler(\u001b[39m'\u001b[39;49m\u001b[39mlogs/lh_requests.log\u001b[39;49m\u001b[39m'\u001b[39;49m, when\u001b[39m=\u001b[39;49m\u001b[39m'\u001b[39;49m\u001b[39mmidnight\u001b[39;49m\u001b[39m'\u001b[39;49m, interval\u001b[39m=\u001b[39;49m\u001b[39m1\u001b[39;49m, backupCount\u001b[39m=\u001b[39;49m\u001b[39m7\u001b[39;49m)\n\u001b[0;32m     15\u001b[0m file_handler\u001b[39m.\u001b[39msetLevel(logging\u001b[39m.\u001b[39mINFO)\n\u001b[0;32m     16\u001b[0m file_handler\u001b[39m.\u001b[39msetFormatter(formatter)\n",
      "File \u001b[1;32mc:\\Users\\u258941\\AppData\\Local\\conda\\conda\\envs\\dst\\Lib\\logging\\handlers.py:214\u001b[0m, in \u001b[0;36mTimedRotatingFileHandler.__init__\u001b[1;34m(self, filename, when, interval, backupCount, encoding, delay, utc, atTime, errors)\u001b[0m\n\u001b[0;32m    210\u001b[0m \u001b[39mdef\u001b[39;00m \u001b[39m__init__\u001b[39m(\u001b[39mself\u001b[39m, filename, when\u001b[39m=\u001b[39m\u001b[39m'\u001b[39m\u001b[39mh\u001b[39m\u001b[39m'\u001b[39m, interval\u001b[39m=\u001b[39m\u001b[39m1\u001b[39m, backupCount\u001b[39m=\u001b[39m\u001b[39m0\u001b[39m,\n\u001b[0;32m    211\u001b[0m              encoding\u001b[39m=\u001b[39m\u001b[39mNone\u001b[39;00m, delay\u001b[39m=\u001b[39m\u001b[39mFalse\u001b[39;00m, utc\u001b[39m=\u001b[39m\u001b[39mFalse\u001b[39;00m, atTime\u001b[39m=\u001b[39m\u001b[39mNone\u001b[39;00m,\n\u001b[0;32m    212\u001b[0m              errors\u001b[39m=\u001b[39m\u001b[39mNone\u001b[39;00m):\n\u001b[0;32m    213\u001b[0m     encoding \u001b[39m=\u001b[39m io\u001b[39m.\u001b[39mtext_encoding(encoding)\n\u001b[1;32m--> 214\u001b[0m     BaseRotatingHandler\u001b[39m.\u001b[39;49m\u001b[39m__init__\u001b[39;49m(\u001b[39mself\u001b[39;49m, filename, \u001b[39m'\u001b[39;49m\u001b[39ma\u001b[39;49m\u001b[39m'\u001b[39;49m, encoding\u001b[39m=\u001b[39;49mencoding,\n\u001b[0;32m    215\u001b[0m                                  delay\u001b[39m=\u001b[39;49mdelay, errors\u001b[39m=\u001b[39;49merrors)\n\u001b[0;32m    216\u001b[0m     \u001b[39mself\u001b[39m\u001b[39m.\u001b[39mwhen \u001b[39m=\u001b[39m when\u001b[39m.\u001b[39mupper()\n\u001b[0;32m    217\u001b[0m     \u001b[39mself\u001b[39m\u001b[39m.\u001b[39mbackupCount \u001b[39m=\u001b[39m backupCount\n",
      "File \u001b[1;32mc:\\Users\\u258941\\AppData\\Local\\conda\\conda\\envs\\dst\\Lib\\logging\\handlers.py:58\u001b[0m, in \u001b[0;36mBaseRotatingHandler.__init__\u001b[1;34m(self, filename, mode, encoding, delay, errors)\u001b[0m\n\u001b[0;32m     54\u001b[0m \u001b[39mdef\u001b[39;00m \u001b[39m__init__\u001b[39m(\u001b[39mself\u001b[39m, filename, mode, encoding\u001b[39m=\u001b[39m\u001b[39mNone\u001b[39;00m, delay\u001b[39m=\u001b[39m\u001b[39mFalse\u001b[39;00m, errors\u001b[39m=\u001b[39m\u001b[39mNone\u001b[39;00m):\n\u001b[0;32m     55\u001b[0m \u001b[39m    \u001b[39m\u001b[39m\"\"\"\u001b[39;00m\n\u001b[0;32m     56\u001b[0m \u001b[39m    Use the specified filename for streamed logging\u001b[39;00m\n\u001b[0;32m     57\u001b[0m \u001b[39m    \"\"\"\u001b[39;00m\n\u001b[1;32m---> 58\u001b[0m     logging\u001b[39m.\u001b[39;49mFileHandler\u001b[39m.\u001b[39;49m\u001b[39m__init__\u001b[39;49m(\u001b[39mself\u001b[39;49m, filename, mode\u001b[39m=\u001b[39;49mmode,\n\u001b[0;32m     59\u001b[0m                                  encoding\u001b[39m=\u001b[39;49mencoding, delay\u001b[39m=\u001b[39;49mdelay,\n\u001b[0;32m     60\u001b[0m                                  errors\u001b[39m=\u001b[39;49merrors)\n\u001b[0;32m     61\u001b[0m     \u001b[39mself\u001b[39m\u001b[39m.\u001b[39mmode \u001b[39m=\u001b[39m mode\n\u001b[0;32m     62\u001b[0m     \u001b[39mself\u001b[39m\u001b[39m.\u001b[39mencoding \u001b[39m=\u001b[39m encoding\n",
      "File \u001b[1;32mc:\\Users\\u258941\\AppData\\Local\\conda\\conda\\envs\\dst\\Lib\\logging\\__init__.py:1181\u001b[0m, in \u001b[0;36mFileHandler.__init__\u001b[1;34m(self, filename, mode, encoding, delay, errors)\u001b[0m\n\u001b[0;32m   1179\u001b[0m     \u001b[39mself\u001b[39m\u001b[39m.\u001b[39mstream \u001b[39m=\u001b[39m \u001b[39mNone\u001b[39;00m\n\u001b[0;32m   1180\u001b[0m \u001b[39melse\u001b[39;00m:\n\u001b[1;32m-> 1181\u001b[0m     StreamHandler\u001b[39m.\u001b[39m\u001b[39m__init__\u001b[39m(\u001b[39mself\u001b[39m, \u001b[39mself\u001b[39;49m\u001b[39m.\u001b[39;49m_open())\n",
      "File \u001b[1;32mc:\\Users\\u258941\\AppData\\Local\\conda\\conda\\envs\\dst\\Lib\\logging\\__init__.py:1213\u001b[0m, in \u001b[0;36mFileHandler._open\u001b[1;34m(self)\u001b[0m\n\u001b[0;32m   1208\u001b[0m \u001b[39m\u001b[39m\u001b[39m\"\"\"\u001b[39;00m\n\u001b[0;32m   1209\u001b[0m \u001b[39mOpen the current base file with the (original) mode and encoding.\u001b[39;00m\n\u001b[0;32m   1210\u001b[0m \u001b[39mReturn the resulting stream.\u001b[39;00m\n\u001b[0;32m   1211\u001b[0m \u001b[39m\"\"\"\u001b[39;00m\n\u001b[0;32m   1212\u001b[0m open_func \u001b[39m=\u001b[39m \u001b[39mself\u001b[39m\u001b[39m.\u001b[39m_builtin_open\n\u001b[1;32m-> 1213\u001b[0m \u001b[39mreturn\u001b[39;00m open_func(\u001b[39mself\u001b[39;49m\u001b[39m.\u001b[39;49mbaseFilename, \u001b[39mself\u001b[39;49m\u001b[39m.\u001b[39;49mmode,\n\u001b[0;32m   1214\u001b[0m                  encoding\u001b[39m=\u001b[39;49m\u001b[39mself\u001b[39;49m\u001b[39m.\u001b[39;49mencoding, errors\u001b[39m=\u001b[39;49m\u001b[39mself\u001b[39;49m\u001b[39m.\u001b[39;49merrors)\n",
      "\u001b[1;31mFileNotFoundError\u001b[0m: [Errno 2] No such file or directory: 'c:\\\\user\\\\U258941\\\\datascientest\\\\DSTAirlines\\\\logs\\\\lh_requests.log'"
     ]
    }
   ],
   "source": [
    "from Lhapi import Lhapi as api\n",
    "\n",
    "test = api()\n"
   ]
  },
  {
   "cell_type": "code",
   "execution_count": null,
   "metadata": {},
   "outputs": [],
   "source": [
    "# REFERENCES\n",
    "# https://developer.lufthansa.com/docs/read/api_details/Reference_Data\n",
    "# missing nearest airport\n",
    "\n",
    "reference_items = ['countries', 'cities', 'airports', 'airlines', 'aircraft']\n",
    "for ref in reference_items:\n",
    "    test.request_file(ref + '.json', 'v1', '/mds-references/' + ref)"
   ]
  },
  {
   "cell_type": "code",
   "execution_count": null,
   "metadata": {},
   "outputs": [],
   "source": [
    "# get airports where LH is present\n",
    "test.request_file('airports_lh.json', 'v1', '/mds-references/airports?LHoperated=1')"
   ]
  },
  {
   "cell_type": "code",
   "execution_count": null,
   "metadata": {},
   "outputs": [],
   "source": [
    "# get lounges from airports where LH is present\n",
    "import json\n",
    "\n",
    "def read_file(file_path, word):\n",
    "    with open(file_path, 'r') as f:\n",
    "        for line in f:\n",
    "            if line.strip().startswith('\"' + word + '\"'):\n",
    "                res = line.split(':')[1].replace(',', '').replace('\"', '').strip()\n",
    "                yield res\n",
    "\n",
    "\n",
    "airport_lh_codes = read_file(\"files/airports_lh.json\", \"AirportCode\")\n",
    "for code in airport_lh_codes:\n",
    "    print(test.request_api(\"/offers/lounges/\" + code))\n"
   ]
  },
  {
   "cell_type": "code",
   "execution_count": null,
   "metadata": {},
   "outputs": [],
   "source": [
    "# OFFERS\n",
    "\n"
   ]
  },
  {
   "cell_type": "code",
   "execution_count": null,
   "metadata": {},
   "outputs": [],
   "source": [
    "# test api v2\n",
    "req = test.request_api('v2', '/customer-deeplinks/servicing-links/booking')\n",
    "print(req)"
   ]
  },
  {
   "cell_type": "code",
   "execution_count": null,
   "metadata": {},
   "outputs": [],
   "source": [
    "print(test.get_partner_token())"
   ]
  },
  {
   "cell_type": "code",
   "execution_count": 6,
   "metadata": {},
   "outputs": [
    {
     "name": "stdout",
     "output_type": "stream",
     "text": [
      "None\n"
     ]
    }
   ],
   "source": [
    "# Test vietnam schedules\n",
    "\n",
    "req = test.request_api('v1', '/operations/schedules/FRA/SGN/2023-11-29?directFlights=true')\n",
    "print(req)"
   ]
  }
 ],
 "metadata": {
  "kernelspec": {
   "display_name": "Python 3",
   "language": "python",
   "name": "python3"
  },
  "language_info": {
   "codemirror_mode": {
    "name": "ipython",
    "version": 3
   },
   "file_extension": ".py",
   "mimetype": "text/x-python",
   "name": "python",
   "nbconvert_exporter": "python",
   "pygments_lexer": "ipython3",
   "version": "3.11.4"
  },
  "orig_nbformat": 4
 },
 "nbformat": 4,
 "nbformat_minor": 2
}
