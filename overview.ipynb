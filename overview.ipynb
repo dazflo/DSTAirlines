{
 "cells": [
  {
   "attachments": {},
   "cell_type": "markdown",
   "metadata": {},
   "source": [
    "# DST Airlines\n",
    "\n",
    "[LINK](https://docs.google.com/document/d/1wyo5QOe8UZZE0_fm0PNdc_bTUNqjyrBMHSHwH-JfSEM/edit)\n",
    "\n",
    "Description détaillée :  \n",
    "De nos jours, il est possible d’avoir des informations sur les vols dans le monde entier et de traquer en temps réel un avion. Nous pouvons observer ce site en guise d’exemple.  \n",
    "Le but ici est de s’en approcher le plus possible en passant par des API de différentes compagnies aériennes.\n",
    "\n",
    "Etape | Description | Modules / Masterclass / Templates | Objectif | Conditions de validation du projet\n",
    "----- | ----------- | --------------------------------- | -------- | ---------------------------------\n",
    "1 | Exploration de données non structurées | Passer par l’API de Lufthansa pour récupérer des données sur les vols | 103 - Introduction aux APIs de données | Un fichier explicatif du traitement et des différentes données accessibles (doc / pdf). Un exemple de données collectées.\n",
    "\n",
    "\n",
    "[Lufthansa Open API Documentation](https://developer.lufthansa.com/docs)\n",
    "\n",
    "[LH OpenAPI testing](https://developer.lufthansa.com/io-docs)\n",
    "\n",
    "[Public API Method Details](https://developer.lufthansa.com/docs/read/api_details)\n",
    "\n",
    "!!! [Un repo GIT englobe déjà les requêtes à l'API, il suffirait de le forker](https://github.com/arossmann/lh_open_api)"
   ]
  },
  {
   "cell_type": "code",
   "execution_count": 2,
   "metadata": {},
   "outputs": [],
   "source": [
    "from Lhapi import Lhapi as api\n",
    "\n",
    "test = api()\n"
   ]
  },
  {
   "cell_type": "code",
   "execution_count": null,
   "metadata": {},
   "outputs": [],
   "source": [
    "# to test a request\n",
    "countries = test.request_api('https://api.lufthansa.com/v1/flight-schedules/flightschedules/passenger?airlines=LH&startDate=01JAN24&endDate=01JAN24&daysOfOperation=1234567&timeMode=UTC')\n",
    "print(countries)"
   ]
  },
  {
   "cell_type": "code",
   "execution_count": null,
   "metadata": {},
   "outputs": [],
   "source": [
    "# get all files for countries reference\n",
    "test.request_full_files('https://api.lufthansa.com/v1/mds-references/countries?lang=EN&limit=100', 'countries')\n"
   ]
  },
  {
   "cell_type": "code",
   "execution_count": null,
   "metadata": {},
   "outputs": [],
   "source": [
    "# get all files for cities reference\n",
    "# 10m4s\n",
    "test.request_full_files('https://api.lufthansa.com/v1/mds-references/cities?lang=EN&limit=100', 'cities')"
   ]
  },
  {
   "cell_type": "code",
   "execution_count": null,
   "metadata": {},
   "outputs": [],
   "source": [
    "# get all files for airports reference\n",
    "# 13m43s\n",
    "test.request_full_files('https://api.lufthansa.com/v1/mds-references/airports?lang=EN&limit=100', 'airports')"
   ]
  },
  {
   "cell_type": "code",
   "execution_count": null,
   "metadata": {},
   "outputs": [],
   "source": [
    "# get all files for airlines reference\n",
    "# 7s\n",
    "test.request_full_files('https://api.lufthansa.com/v1/mds-references/airlines?lang=EN&limit=100', 'airlines')"
   ]
  },
  {
   "cell_type": "code",
   "execution_count": null,
   "metadata": {},
   "outputs": [],
   "source": [
    "# get all files for aircraft reference\n",
    "# 2.7s\n",
    "test.request_full_files('https://api.lufthansa.com/v1/mds-references/aircraft?lang=EN&limit=100', 'aircraft')"
   ]
  },
  {
   "cell_type": "code",
   "execution_count": null,
   "metadata": {},
   "outputs": [],
   "source": [
    "# REFERENCES\n",
    "# https://developer.lufthansa.com/docs/read/api_details/Reference_Data\n",
    "# get all references\n",
    "\n",
    "reference_items = ['countries', 'cities', 'airports', 'airlines', 'aircraft']\n",
    "for ref in reference_items:\n",
    "    test.request_full_files(f'https://api.lufthansa.com/v1/mds-references/{ref}?lang=EN&limit=100', ref)"
   ]
  },
  {
   "cell_type": "code",
   "execution_count": null,
   "metadata": {},
   "outputs": [],
   "source": [
    "# get lounges from airports where LH is present\n",
    "import json\n",
    "\n",
    "def read_file(file_path, word):\n",
    "    with open(file_path, 'r') as f:\n",
    "        for line in f:\n",
    "            if line.strip().startswith('\"' + word + '\"'):\n",
    "                res = line.split(':')[1].replace(',', '').replace('\"', '').strip()\n",
    "                yield res\n",
    "\n",
    "\n",
    "airport_lh_codes = read_file(\"files/airports_lh.json\", \"AirportCode\")\n",
    "for code in airport_lh_codes:\n",
    "    print(test.request_api(\"/offers/lounges/\" + code))\n"
   ]
  },
  {
   "cell_type": "code",
   "execution_count": null,
   "metadata": {},
   "outputs": [],
   "source": [
    "# Request schedules by line and by day\n",
    "# https://api.lufthansa.com/v1/flight-schedules/flightschedules/passenger?airlines=LH&startDate=01JAN24&endDate=01JAN24&daysOfOperation=1234567&timeMode=UTC\n",
    "# This API provides Lufthansa Groups flight schedule information (limited to LH - Lufthansa, EN - Air Dolomiti, LX - Swiss, OS - Austrian, WK - Edelweiss, SN - Brussels Airlines and  4Y - Eurowings Discover). \n",
    "\n",
    "dt_range = test.gen_dates_range('01DEC23', '30JAN24')\n",
    "airline = 'LX'\n",
    "\n",
    "for dt in dt_range:\n",
    "    print(dt)\n",
    "    for airline in ['OS', 'WK', 'SN', '4Y']:\n",
    "        test.request_full_files(f\"https://api.lufthansa.com/v1/flight-schedules/flightschedules/passenger?airlines={airline}&startDate={dt}&endDate={dt}&daysOfOperation=1234567&timeMode=UTC\", f\"flightschedules_{airline}_{dt}\")\n"
   ]
  },
  {
   "cell_type": "code",
   "execution_count": null,
   "metadata": {},
   "outputs": [],
   "source": [
    "# request flight status\n",
    "# The available date range is from 7 days in the past until 5 days in the future. \n",
    "# GET /operations/flightstatus/{flightNumber}/{date}\n",
    "# SELECT *\n",
    "# FROM DB_SL_EP_LAB.DST.DST_FLIGHT_SCHEDULES\n",
    "# WHERE startdate = '31JAN24'\n",
    "# AND airlineid = 'LX'\n",
    "# AND flightnumber = 8\n",
    "# ;"
   ]
  },
  {
   "cell_type": "code",
   "execution_count": null,
   "metadata": {},
   "outputs": [],
   "source": [
    "status = test.request_api('https://api.lufthansa.com/v1/operations/flightstatus/LX8/2024-01-31')\n",
    "print(status)\n"
   ]
  },
  {
   "cell_type": "code",
   "execution_count": null,
   "metadata": {},
   "outputs": [],
   "source": [
    "status_route = test.request_api('https://api.lufthansa.com/v1/operations/flightstatus/route/FRA/ZRH/2024-01-31')\n",
    "print(status_route)"
   ]
  },
  {
   "cell_type": "code",
   "execution_count": null,
   "metadata": {},
   "outputs": [],
   "source": [
    "status_arrivals = test.request_api('https://api.lufthansa.com/v1/operations/flightstatus/arrivals/ZRH/2024-01-31')\n",
    "print(status_arrivals)"
   ]
  },
  {
   "cell_type": "code",
   "execution_count": null,
   "metadata": {},
   "outputs": [],
   "source": [
    "customerflightinformation = test.request_api('https://api.lufthansa.com/v1/operations/customerflightinformation/LX8/2024-01-31')\n",
    "print(customerflightinformation)"
   ]
  },
  {
   "cell_type": "code",
   "execution_count": null,
   "metadata": {},
   "outputs": [],
   "source": [
    "customerflightinformation_arrivals = test.request_api('https://api.lufthansa.com/v1/operations/customerflightinformation/arrivals/FRA/2024-01-31T18:00')\n",
    "print(customerflightinformation_arrivals)"
   ]
  }
 ],
 "metadata": {
  "kernelspec": {
   "display_name": "Python 3",
   "language": "python",
   "name": "python3"
  },
  "language_info": {
   "codemirror_mode": {
    "name": "ipython",
    "version": 3
   },
   "file_extension": ".py",
   "mimetype": "text/x-python",
   "name": "python",
   "nbconvert_exporter": "python",
   "pygments_lexer": "ipython3",
   "version": "3.11.4"
  },
  "orig_nbformat": 4
 },
 "nbformat": 4,
 "nbformat_minor": 2
}
